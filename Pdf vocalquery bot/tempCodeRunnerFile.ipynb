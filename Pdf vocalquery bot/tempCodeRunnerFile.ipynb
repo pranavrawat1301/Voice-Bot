!pip uninstall torch -y
!pip install torch